{
  "nbformat": 4,
  "nbformat_minor": 0,
  "metadata": {
    "colab": {
      "provenance": [],
      "authorship_tag": "ABX9TyNMqMVWKdsiZnLOCTaxjECH",
      "include_colab_link": true
    },
    "kernelspec": {
      "name": "python3",
      "display_name": "Python 3"
    },
    "language_info": {
      "name": "python"
    }
  },
  "cells": [
    {
      "cell_type": "markdown",
      "metadata": {
        "id": "view-in-github",
        "colab_type": "text"
      },
      "source": [
        "<a href=\"https://colab.research.google.com/github/emtiaz2060/second-assignment-/blob/main/Second_assignment_.ipynb\" target=\"_parent\"><img src=\"https://colab.research.google.com/assets/colab-badge.svg\" alt=\"Open In Colab\"/></a>"
      ]
    },
    {
      "cell_type": "code",
      "execution_count": null,
      "metadata": {
        "colab": {
          "base_uri": "https://localhost:8080/"
        },
        "id": "2lZvF3qTh4E2",
        "outputId": "ffeac853-59ad-434b-e888-a747d62f5a8e"
      },
      "outputs": [
        {
          "output_type": "stream",
          "name": "stdout",
          "text": [
            "24, 18, 12, 6, 0, -6, 24, 18, 12, 6, 0, -6, "
          ]
        }
      ],
      "source": [
        "        #Task-1.a\n",
        "        #using while\n",
        "a=24\n",
        "while 24>=a>-7:\n",
        "  if a%2==0:\n",
        "    print(a, end=\", \")\n",
        "  else :\n",
        "    print(\"Here\")\n",
        "  a-=6\n",
        "#using for \n",
        "for a in range (24,-7,-6):\n",
        "   if a%2==0:\n",
        "     print(a, end=\", \")\n",
        "   else:\n",
        "     print()"
      ]
    },
    {
      "cell_type": "code",
      "source": [
        "            #Task-1.b\n",
        "        #using while\n",
        "a=-10\n",
        "while -10<=a<=20:\n",
        "  if a%5==0:\n",
        "    if a==20:\n",
        "      print(a, end=\" \")\n",
        "    else:\n",
        "      print(a, end=\", \")\n",
        "  else :\n",
        "    print(\"Here\")\n",
        "  a+=5\n",
        "#using for  \n",
        "for i in range(-10,21,5):\n",
        "  if i%5==0:\n",
        "    if i%5==20:\n",
        "      print(i, end=\" \")\n",
        "    else:\n",
        "      print(i, end=\", \")  \n",
        "  else:\n",
        "    print(\"here\")"
      ],
      "metadata": {
        "colab": {
          "base_uri": "https://localhost:8080/"
        },
        "id": "rIyFyLlYiPbd",
        "outputId": "20b558a1-0999-413d-ef37-759781de90de"
      },
      "execution_count": null,
      "outputs": [
        {
          "output_type": "stream",
          "name": "stdout",
          "text": [
            "-10, -5, 0, 5, 10, 15, 20 -10, -5, 0, 5, 10, 15, 20, "
          ]
        }
      ]
    },
    {
      "cell_type": "code",
      "source": [
        "        # Task-1.c\n",
        "        # using while\n",
        "a=18\n",
        "while a<64:\n",
        "  if a==63:\n",
        "    print(a, end=\" \")\n",
        "  else:  \n",
        "    print(a, end=\", \")\n",
        "  a+=9\n",
        "\n",
        "# using for\n",
        "for i in range(18,64,9):\n",
        "  if i==63:\n",
        "    print(i, end=\" \" )\n",
        "  else:  \n",
        "    print(i, end=\", \")"
      ],
      "metadata": {
        "colab": {
          "base_uri": "https://localhost:8080/"
        },
        "id": "RYbjwmefisMN",
        "outputId": "296917ac-1fb0-4137-ded3-c3114f3c1831"
      },
      "execution_count": null,
      "outputs": [
        {
          "output_type": "stream",
          "name": "stdout",
          "text": [
            "18, 27, 36, 45, 54, 63 18, 27, 36, 45, 54, 63 "
          ]
        }
      ]
    },
    {
      "cell_type": "code",
      "source": [
        "        #Task-1.d\n",
        "        #using while\n",
        "a=18\n",
        "while a<=63:\n",
        "  if a%2==0:\n",
        "    print(a, end=\", \")\n",
        "  else:\n",
        "    if a==63:\n",
        "      print(-1*a, end=\" \")\n",
        "    else:\n",
        "      print(-1*a, end=\", \")  \n",
        "  a+=9   \n",
        "#using for   \n",
        "for a in range(18,64,9):\n",
        "  if a%2==0:\n",
        "    print(a, end=\", \")\n",
        "  else:\n",
        "    if a==63:\n",
        "      print(-1*a, end=\" \")\n",
        "    else:\n",
        "      print(-1*a, end=\", \")"
      ],
      "metadata": {
        "colab": {
          "base_uri": "https://localhost:8080/"
        },
        "id": "PfG4JGe2i6Rb",
        "outputId": "fc475073-427d-4a7d-a60a-6ec4d83a43f1"
      },
      "execution_count": null,
      "outputs": [
        {
          "output_type": "stream",
          "name": "stdout",
          "text": [
            "18, -27, 36, -45, 54, -63 18, -27, 36, -45, 54, -63 "
          ]
        }
      ]
    },
    {
      "cell_type": "code",
      "source": [
        "        #task-2     \n",
        "# Using for\n",
        "a=int(input())\n",
        "car=input(\"Enter a car name: \")\n",
        "for a in range(a):\n",
        "  print(car)\n",
        "\n",
        "# using while\n",
        "a=input((\"Enter your car name: \"))\n",
        "x=1\n",
        "b=int(input(\"Give a number: \"))\n",
        "while b>=x:\n",
        "  print(a)\n",
        "  x+=1"
      ],
      "metadata": {
        "id": "hd2O7KgVjL1S"
      },
      "execution_count": null,
      "outputs": []
    },
    {
      "cell_type": "code",
      "source": [
        "# Task-3\n",
        "sum1=0\n",
        "for i in range(63,601):\n",
        "  if i%7==0 and i%9==0:\n",
        "    sum1=sum1+i\n",
        "  else:\n",
        "    #eikhane else na dileu cole. else dile pass korte hobe print kora jabe\n",
        "    pass    \n",
        "print(sum1)"
      ],
      "metadata": {
        "colab": {
          "base_uri": "https://localhost:8080/"
        },
        "id": "m1gJX5F8jssF",
        "outputId": "477cfe0d-b04d-4ca3-ba0e-b5358caa217c"
      },
      "execution_count": null,
      "outputs": [
        {
          "output_type": "stream",
          "name": "stdout",
          "text": [
            "2835\n"
          ]
        }
      ]
    },
    {
      "cell_type": "code",
      "source": [
        "        #Task-4\n",
        "sum1=0\n",
        "for i in range(7,601):\n",
        "  if i%9==0 and i%7==0 :\n",
        "    pass\n",
        "  elif i%9==0 or i%7==0:\n",
        "    sum1+=i\n",
        "print(sum1)"
      ],
      "metadata": {
        "colab": {
          "base_uri": "https://localhost:8080/"
        },
        "id": "qPxbaB_Vj6R8",
        "outputId": "10d11cd3-308f-4f15-c628-9d0ee737e1ef"
      },
      "execution_count": null,
      "outputs": [
        {
          "output_type": "stream",
          "name": "stdout",
          "text": [
            "39814\n"
          ]
        }
      ]
    },
    {
      "cell_type": "code",
      "source": [
        "        #Task-5\n",
        "for i in range(9,50,2):\n",
        "  if i==9:\n",
        "    pass\n",
        "  else:  \n",
        "    print(i)"
      ],
      "metadata": {
        "colab": {
          "base_uri": "https://localhost:8080/"
        },
        "id": "-b_SkVBOkCms",
        "outputId": "2f99d8ab-4ccf-4b30-bbf1-71b1655ea02b"
      },
      "execution_count": null,
      "outputs": [
        {
          "output_type": "stream",
          "name": "stdout",
          "text": [
            "11\n",
            "13\n",
            "15\n",
            "17\n",
            "19\n",
            "21\n",
            "23\n",
            "25\n",
            "27\n",
            "29\n",
            "31\n",
            "33\n",
            "35\n",
            "37\n",
            "39\n",
            "41\n",
            "43\n",
            "45\n",
            "47\n",
            "49\n"
          ]
        }
      ]
    },
    {
      "cell_type": "code",
      "source": [
        "        #Task-6\n",
        "\n",
        "n=int(input())\n",
        "result = 0\n",
        "\n",
        "for i in range(1, n + 1) :\n",
        "\n",
        "        # If i is even\n",
        "    if (i % 2 == 0):\n",
        "            result = result - pow(i, 2)\n",
        "            print(i)\n",
        "        # If i is odd\n",
        "    else:\n",
        "            result = result + pow(i, 2)\n",
        "print(result)"
      ],
      "metadata": {
        "id": "cBW3L07YkJdx"
      },
      "execution_count": null,
      "outputs": []
    },
    {
      "cell_type": "code",
      "source": [
        "        #Task-7\n",
        "sum = 0\n",
        "\n",
        "for i in range(10):\n",
        "   a=int(input(\"Enter a number:\"))\n",
        "  #  print(a)\n",
        "   if not a%2==0 :\n",
        "      sum +=a\n",
        "\n",
        "print(f\"The Sum of the odd number is: {sum}\")\n",
        "\n",
        "average=sum/5\n",
        "print(f\"Their average is {average}\")"
      ],
      "metadata": {
        "id": "VjgpiAFZkxFF"
      },
      "execution_count": null,
      "outputs": []
    },
    {
      "cell_type": "code",
      "source": [
        "#Task-9\n",
        "\n",
        "\n",
        "# using loop\n",
        "sum=0\n",
        "for i in range(5):\n",
        "  a=int(input(\"Enter your number: \"))\n",
        "  sum+=a\n",
        "  print(sum)"
      ],
      "metadata": {
        "id": "g8LEx_Y-lO3k"
      },
      "execution_count": null,
      "outputs": []
    },
    {
      "cell_type": "code",
      "source": [
        "# Task-8\n",
        "a=int(input(\"Give me a number: \"))\n",
        "sum=0\n",
        "for i in range(7,a):\n",
        "  # print(i)\n",
        "    if i%7==0:\n",
        "        sum+=i\n",
        "print(f\"The summation of multiples of 7 up to {a} is =\",sum)"
      ],
      "metadata": {
        "colab": {
          "base_uri": "https://localhost:8080/"
        },
        "id": "u2JBJcUflB0G",
        "outputId": "53933d4d-eabf-4ff2-ebc4-f1f7080559e1"
      },
      "execution_count": null,
      "outputs": [
        {
          "output_type": "stream",
          "name": "stdout",
          "text": [
            "Give me a number: 10\n",
            "The summation of multiples of 7 up to 10 is = 7\n"
          ]
        }
      ]
    },
    {
      "cell_type": "code",
      "source": [
        "# Task-10\n",
        "a=input()\n",
        "b=int(a)\n",
        "\n",
        "for i in range (len(a)):\n",
        "  c=b%10\n",
        "  print(c, end=\", \")\n",
        "  b=b//10\n",
        "\n",
        "# #Task-10 without using length\n",
        "\n",
        "a=int(input(\"Enter your number: \"))\n",
        "#You must take this a in an another var otherwise code will not work. cz inside the while loop the value of a is changing.So it will show 0,0,0,0 inside for loop.\n",
        "b=a\n",
        "\n",
        "count=0\n",
        "while a>0:\n",
        "  a=a//10\n",
        "  count+=1\n",
        "#print(count) \n",
        "\n",
        "for i in range(count):\n",
        "  c=b%10\n",
        "  print(c, end=\",\")\n",
        "  b=b//10"
      ],
      "metadata": {
        "id": "kfoX0oMxlgE-"
      },
      "execution_count": null,
      "outputs": []
    },
    {
      "cell_type": "code",
      "source": [
        "#Task-11\n",
        "# Python program to find length of a string without using in-built function\n",
        "string1=input(\"Enter a string: \")\n",
        "count=0\n",
        "for i in string1:\n",
        "  count+=1\n",
        "print(\"SFlow output is: \",count)  \n",
        "\n",
        "#Method-1\n",
        "a=int(input(\"Enter a number: \"))\n",
        "b=str(a)\n",
        "count=0\n",
        "for i in b:\n",
        "  count+=1\n",
        "print(\"Method-1 output is: \",count)\n",
        "\n",
        "#Method-2\n",
        "a=int(input(\"Enter a number: \"))\n",
        "count=0\n",
        "while a>0:\n",
        "  a=a//10\n",
        "  count+=1\n",
        "print(\"Method-2 output: \",count)"
      ],
      "metadata": {
        "id": "ItAhTePplneI"
      },
      "execution_count": null,
      "outputs": []
    },
    {
      "cell_type": "code",
      "source": [
        "#Task-12\n",
        "\n",
        "#own method\n",
        "num1 = input(\"Give a number: \")\n",
        "num_str = str(num1)\n",
        "for num in num_str:\n",
        "  print( num, end=\",\")\n",
        "#Assignment logic\n",
        "a=input(\"Enter a number: \")\n",
        "b=int(a)\n",
        "count=0\n",
        "\n",
        "for i in a:\n",
        "  count+=1\n",
        "#print(count)\n",
        "\n",
        "while count>0:\n",
        "  print(b//(10**(count-1)), end=\",\")\n",
        "  b=b%(10**(count-1))\n",
        "  count=count-1"
      ],
      "metadata": {
        "id": "2EFZVKQIl2bJ"
      },
      "execution_count": null,
      "outputs": []
    },
    {
      "cell_type": "code",
      "source": [
        "#Task-13\n",
        "a=int(input(\"Enter a number: \"))\n",
        "count=0\n",
        "for i in range(1, a+1):\n",
        "  if a%i==0:\n",
        "    count+=1\n",
        "    print(i, end=\",\")\n",
        "print(\"\\n\")\n",
        "print(\"Total\",count,\"divisors\")"
      ],
      "metadata": {
        "id": "VxTOb8T7l8dV"
      },
      "execution_count": null,
      "outputs": []
    },
    {
      "cell_type": "code",
      "source": [
        "#Task-14\n",
        "a=int(input(\"Give a number: \"))\n",
        "sum=0\n",
        "for i in range(1,a):\n",
        "  if a%i==0:\n",
        "    sum=sum+i\n",
        "if sum==a:\n",
        "  print(a,\"is a perfect number.\")\n",
        "else:\n",
        "  print(a,\"is not a perfect number.\")"
      ],
      "metadata": {
        "id": "Ovy0UBzamHqt"
      },
      "execution_count": null,
      "outputs": []
    },
    {
      "cell_type": "code",
      "source": [
        "#Task-15\n",
        "a=int(input(\"Give a number: \"))\n",
        "\n",
        "for i in range(2,a-1):\n",
        "  if a%i==0:\n",
        "    print(a,\"is not a prime number\")\n",
        "    break\n",
        "else:\n",
        "    print(a,\"is a prime number\")\n",
        "#we have to put this else outside of the loop...\n",
        "#efficient way"
      ],
      "metadata": {
        "id": "x-CJnfDAmIwB"
      },
      "execution_count": null,
      "outputs": []
    },
    {
      "cell_type": "code",
      "source": [
        "#Task-16\n",
        "\n",
        "#**This code has a little error i will fix it soon so skip it for now**\n",
        "a=int(input(\"Enter the number of elements:\"))\n",
        "lst=[]\n",
        "\n",
        "for i in range(a):\n",
        "  a=int(input(\"Enter your number: \"))\n",
        "  lst.append(a)\n",
        "\n",
        "#finding-max\n",
        "max=lst[0]\n",
        "for i in range(a):\n",
        "  if (lst[i]>max):\n",
        "    max=lst[i]\n",
        "print(\"Maximum:\",max)\n",
        "\n",
        "#finding-min\n",
        "min=lst[0]\n",
        "for i in range(a):\n",
        "  if (lst[i]<min):\n",
        "    min=lst[i]\n",
        "print(\"Minimum:\",min)\n",
        "#finding-avg   \n",
        "avg=sum(lst)/a\n",
        "print(\"Average is:\",avg)"
      ],
      "metadata": {
        "id": "AWbHtOVEmNdy"
      },
      "execution_count": null,
      "outputs": []
    }
  ]
}